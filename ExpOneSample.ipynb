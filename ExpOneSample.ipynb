{
 "cells": [
  {
   "cell_type": "code",
   "execution_count": null,
   "metadata": {},
   "outputs": [],
   "source": [
    "from framework.grid import Grid\n",
    "from framework.experiment import ExperimentOne"
   ]
  },
  {
   "cell_type": "markdown",
   "metadata": {},
   "source": [
    "### Set up a sample grid search instance"
   ]
  },
  {
   "cell_type": "code",
   "execution_count": null,
   "metadata": {},
   "outputs": [],
   "source": [
    "grid = {\n",
    "    \"size\": [0.1, 0.3, 0.5, 0.7, 0.9, 1.0],\n",
    "    # Todo: Implement histogram sampling\n",
    "    \"sampling\": [\"random\", \"stratified\"],\n",
    "    # Todo: Implement the other 2 loss metrics\n",
    "    \"convergence\": [\"interpoint\"],\n",
    "    # \"convergence\": [\"spread\", \"avgrecall\", \"interpoint\"],\n",
    "    \"dataset\": [\"mnist\", \"fmnist\", \"olivetti\"],\n",
    "    \"algorithm\": [\"umap\", \"tsne\"]\n",
    "}"
   ]
  },
  {
   "cell_type": "code",
   "execution_count": null,
   "metadata": {},
   "outputs": [],
   "source": [
    "gs = Grid(grid, ExperimentOne)"
   ]
  },
  {
   "cell_type": "markdown",
   "metadata": {},
   "source": [
    "### Run the grid search (this may take a minute)"
   ]
  },
  {
   "cell_type": "code",
   "execution_count": null,
   "metadata": {},
   "outputs": [],
   "source": [
    "results = gs.run()"
   ]
  },
  {
   "cell_type": "markdown",
   "metadata": {},
   "source": [
    "### Result Format:\n",
    "1. Array of result objects, `[Result]`, where the result dictionary can be obtained by calling fetch() on a result object\n",
    "2. Ref: `framework/result.py`"
   ]
  }
 ],
 "metadata": {
  "kernelspec": {
   "display_name": "Python 3",
   "language": "python",
   "name": "python3"
  },
  "language_info": {
   "codemirror_mode": {
    "name": "ipython",
    "version": 3
   },
   "file_extension": ".py",
   "mimetype": "text/x-python",
   "name": "python",
   "nbconvert_exporter": "python",
   "pygments_lexer": "ipython3",
   "version": "3.8.3"
  }
 },
 "nbformat": 4,
 "nbformat_minor": 4
}
