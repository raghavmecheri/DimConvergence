{
 "cells": [
  {
   "cell_type": "code",
   "execution_count": null,
   "metadata": {},
   "outputs": [],
   "source": [
    "from framework.grid import Grid\n",
    "from framework.experiment import ExperimentOne\n",
    "\n",
    "import pickle\n",
    "\n",
    "from multiprocessing import Pool\n",
    "\n",
    "CONVERGENCE = [\"scatter\", \"nn_precision\", \"fn_precision\",\"epsilon_precision_recall\"]\n",
    "\n",
    "PROCESSES = 10"
   ]
  },
  {
   "cell_type": "code",
   "execution_count": null,
   "metadata": {},
   "outputs": [],
   "source": [
    "def _save(obj, name):\n",
    "    with open(name, \"wb\") as f:\n",
    "        pickle.dump(obj, f)"
   ]
  },
  {
   "cell_type": "code",
   "execution_count": null,
   "metadata": {},
   "outputs": [],
   "source": [
    "grid = {\n",
    "\"size\": [0.3, 0.4, 0.5, 0.6, 0.7, 0.8, 0.9, 1.0],\n",
    "\"sampling\": [\"random\", \"stratified\"],\n",
    "\"dataset\": [\"mnist\", \"olivetti\"],\n",
    "\"algorithm\": [\"umap\", \"tsne\"]\n",
    "}"
   ]
  },
  {
   "cell_type": "code",
   "execution_count": null,
   "metadata": {},
   "outputs": [],
   "source": [
    "gs = Grid(grid, CONVERGENCE, ExperimentOne)\n",
    "results = gs.run()\n",
    "_save(results, \"experimentone.pkl\")"
   ]
  },
  {
   "cell_type": "code",
   "execution_count": null,
   "metadata": {},
   "outputs": [],
   "source": []
  }
 ],
 "metadata": {
  "kernelspec": {
   "display_name": "Python 3",
   "language": "python",
   "name": "python3"
  }
 },
 "nbformat": 4,
 "nbformat_minor": 4
}
