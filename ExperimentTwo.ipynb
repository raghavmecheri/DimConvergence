{
 "cells": [
  {
   "cell_type": "code",
   "execution_count": 1,
   "metadata": {},
   "outputs": [],
   "source": [
    "import pickle\n",
    "\n",
    "from framework.grid import Grid\n",
    "from framework.experiment import ExperimentTwo"
   ]
  },
  {
   "cell_type": "code",
   "execution_count": 2,
   "metadata": {},
   "outputs": [],
   "source": [
    "def _save(obj, name):\n",
    "    with open(name, \"wb\") as f:\n",
    "        pickle.dump(obj, f)"
   ]
  },
  {
   "cell_type": "markdown",
   "metadata": {},
   "source": [
    "### Set up a sample grid search instance"
   ]
  },
  {
   "cell_type": "code",
   "execution_count": 3,
   "metadata": {},
   "outputs": [],
   "source": [
    "grid = {\n",
    "    \"size\": [0.1, 0.2, 0.3, 0.4, 0.5, 0.6, 0.7, 0.8, 0.9, 1.0],\n",
    "    \"sampling\": [\"random\", \"stratified\"],\n",
    "    \"convergence\": [\"none\"],\n",
    "    \"dataset\": [\"mnist\", \"fmnist\", \"olivetti\"],\n",
    "    \"algorithm\": [\"umap\", \"tsne\"]\n",
    "}"
   ]
  },
  {
   "cell_type": "code",
   "execution_count": 4,
   "metadata": {},
   "outputs": [],
   "source": [
    "gs = Grid(grid, ExperimentTwo)"
   ]
  },
  {
   "cell_type": "markdown",
   "metadata": {},
   "source": [
    "### Run the grid search (this may take a minute)"
   ]
  },
  {
   "cell_type": "code",
   "execution_count": 5,
   "metadata": {},
   "outputs": [
    {
     "data": {
      "application/vnd.jupyter.widget-view+json": {
       "model_id": "46b4d49d05a041bf8b0aa2706afb01c4",
       "version_major": 2,
       "version_minor": 0
      },
      "text/plain": [
       "HBox(children=(FloatProgress(value=0.0, max=120.0), HTML(value='')))"
      ]
     },
     "metadata": {},
     "output_type": "display_data"
    },
    {
     "name": "stderr",
     "output_type": "stream",
     "text": [
      "Perplexity value 30 is too high. Using perplexity 9.00 instead\n",
      "Perplexity value 30 is too high. Using perplexity 9.00 instead\n",
      "Perplexity value 30 is too high. Using perplexity 18.33 instead\n",
      "Perplexity value 30 is too high. Using perplexity 18.33 instead\n",
      "Perplexity value 30 is too high. Using perplexity 27.67 instead\n",
      "Perplexity value 30 is too high. Using perplexity 27.67 instead\n"
     ]
    },
    {
     "name": "stdout",
     "output_type": "stream",
     "text": [
      "\n"
     ]
    }
   ],
   "source": [
    "results = gs.run()"
   ]
  },
  {
   "cell_type": "code",
   "execution_count": 7,
   "metadata": {},
   "outputs": [],
   "source": [
    "results_json = [x.fetch() for x in results]\n",
    "_save(results_json, \"experimenttwo.pkl\")"
   ]
  },
  {
   "cell_type": "markdown",
   "metadata": {},
   "source": [
    "### Result Format:\n",
    "1. Array of result objects, `[Result]`, where the result dictionary can be obtained by calling fetch() on a result object\n",
    "2. Ref: `framework/result.py`\n",
    "3. To compute interpoint distance, we use this result matrix and do it using a helper function"
   ]
  }
 ],
 "metadata": {
  "kernelspec": {
   "display_name": "Python 3",
   "language": "python",
   "name": "python3"
  },
  "language_info": {
   "codemirror_mode": {
    "name": "ipython",
    "version": 3
   },
   "file_extension": ".py",
   "mimetype": "text/x-python",
   "name": "python",
   "nbconvert_exporter": "python",
   "pygments_lexer": "ipython3",
   "version": "3.8.3"
  }
 },
 "nbformat": 4,
 "nbformat_minor": 4
}
