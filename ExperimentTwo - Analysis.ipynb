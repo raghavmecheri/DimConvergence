{
 "cells": [
  {
   "cell_type": "markdown",
   "metadata": {},
   "source": [
    "## First average out the 10 runs to eliminate sampling effects"
   ]
  },
  {
   "cell_type": "code",
   "execution_count": 1,
   "metadata": {},
   "outputs": [],
   "source": [
    "import pickle\n",
    "from collections import defaultdict\n",
    "from framework.losses import interpoint_distance\n",
    "import os\n",
    "import pandas as pd"
   ]
  },
  {
   "cell_type": "code",
   "execution_count": 35,
   "metadata": {},
   "outputs": [],
   "source": [
    "SAVE_IMAGES = True\n",
    "IMAGES_DIR = \"./results/img/exp2/\"\n",
    "\n",
    "def clear_folder(path):\n",
    "    filelist = [f for f in os.listdir(path) if f.endswith(\"png\")]\n",
    "    for f in filelist:\n",
    "        os.remove(os.path.join(path, f))\n",
    "        \n",
    "def save_image(title, x, y):\n",
    "    filename = title + \".png\"\n",
    "    plt.title(title)\n",
    "    plt.plot(x, y)\n",
    "    plt.savefig(IMAGES_DIR + filename)"
   ]
  },
  {
   "cell_type": "code",
   "execution_count": 36,
   "metadata": {},
   "outputs": [],
   "source": [
    "RESULTS_DIR = \"./results/exp2\"\n",
    "N_RESULT_FILES = 10\n",
    "\n",
    "def _load(name):\n",
    "    with open(name, \"rb\") as f:\n",
    "        return pickle.load(f)\n",
    "    \n",
    "if SAVE_IMAGES:\n",
    "    clear_folder(IMAGES_DIR)"
   ]
  },
  {
   "cell_type": "code",
   "execution_count": 37,
   "metadata": {},
   "outputs": [],
   "source": [
    "df = pd.DataFrame(_load('./results/exp2/experimenttwo_1.pkl'))"
   ]
  },
  {
   "cell_type": "code",
   "execution_count": 38,
   "metadata": {},
   "outputs": [
    {
     "name": "stdout",
     "output_type": "stream",
     "text": [
      "experimenttwo_5.pkl\n",
      "experimenttwo_4.pkl\n",
      "experimenttwo_6.pkl\n",
      "experimenttwo_7.pkl\n",
      "experimenttwo_3.pkl\n",
      "experimenttwo_2.pkl\n",
      "experimenttwo_1.pkl\n",
      "experimenttwo_10.pkl\n",
      "experimenttwo_9.pkl\n",
      "experimenttwo_8.pkl\n"
     ]
    }
   ],
   "source": [
    "RESULTS_DIR = \"./results/exp2\"\n",
    "N_RESULT_FILES = 10\n",
    "for filename in os.listdir(RESULTS_DIR):\n",
    "    print(filename)\n",
    "    \n",
    "if len(os.listdir(RESULTS_DIR)) != N_RESULT_FILES:\n",
    "    print(\"Some runs are missing please check the results folder\")"
   ]
  },
  {
   "cell_type": "code",
   "execution_count": 39,
   "metadata": {},
   "outputs": [],
   "source": [
    "def group(results):\n",
    "    \n",
    "    def _sort(groups):\n",
    "        \n",
    "        sorted_groups = {}\n",
    "        for key, x in groups.items():\n",
    "            sorted_groups[key] = sorted(x, key=lambda k: k['size'])\n",
    "            \n",
    "        return sorted_groups\n",
    "    \n",
    "    groups = defaultdict(list)\n",
    "    for result in results:\n",
    "        samp, dataset, algo = result['sampling'], result['dataset'], result['algorithm']\n",
    "        key = tuple([samp, dataset, algo])\n",
    "        groups[key].append({\n",
    "            \"emb_x\": result['emb_x'],\n",
    "            \"labels\": result['labels'],\n",
    "            \"size\": result['size']\n",
    "        })\n",
    "    return _sort(dict(groups))"
   ]
  },
  {
   "cell_type": "code",
   "execution_count": 40,
   "metadata": {},
   "outputs": [],
   "source": [
    "def groups_to_interpoint(groups):\n",
    "    \n",
    "    def _do_interpoint(arr):\n",
    "        embeddings = [x['emb_x'] for x in arr]\n",
    "        interpoints = []\n",
    "        for i in range(0, len(embeddings) - 1):\n",
    "            \n",
    "            #Set j = -1 to look at distance from the ground truth. Set j = i-1 to look at incremental difference.\n",
    "            j = -1\n",
    "            \n",
    "            interpoints.append(interpoint_distance(embeddings[i], embeddings[j]))\n",
    "        return interpoints\n",
    "        \n",
    "    interpoint_groups = {}\n",
    "    for key, value in groups.items():\n",
    "        interpoint_groups[key] = _do_interpoint(value)\n",
    "\n",
    "    return interpoint_groups"
   ]
  },
  {
   "cell_type": "code",
   "execution_count": 41,
   "metadata": {},
   "outputs": [],
   "source": [
    "def create_average_data(RESULTS_DIR, N_RESULT_FILES, preprocess=\"interpoint\"):\n",
    "    print(\"Listing all result files...\")\n",
    "    for filename in os.listdir(RESULTS_DIR):\n",
    "        print(filename)\n",
    "    \n",
    "    if len(os.listdir(RESULTS_DIR)) != N_RESULT_FILES:\n",
    "        print(\"Some runs are missing please check the results folder\")\n",
    "    \n",
    "    print(\"---------------------------------------------------------\")\n",
    "    \n",
    "    print(\"Combining files now....\")\n",
    "    exp1_runs = {}\n",
    "    i=0\n",
    "    print(\"Loading Data...\")\n",
    "    for run in os.listdir(RESULTS_DIR):\n",
    "        result = _load(os.path.join(RESULTS_DIR, run))\n",
    "        if preprocess == \"interpoint\":\n",
    "            result = groups_to_interpoint(group(result))\n",
    "        exp1_runs[i] = pd.DataFrame(result)\n",
    "        i +=1\n",
    "    \n",
    "    print(\"Averaging...\")\n",
    "    averages = exp1_runs[0].copy()\n",
    "    averages.loc[:,:] = 0\n",
    "    for i in range(N_RESULT_FILES):\n",
    "        for j in range(len(averages.columns)):\n",
    "            averages.iloc[:,j] += exp1_runs[i].iloc[:,j]\n",
    "    \n",
    "    averages = averages / N_RESULT_FILES\n",
    "    \n",
    "    print(\"Merge complete!\")\n",
    "    \n",
    "    return averages\n",
    "\n",
    "\n",
    "\n"
   ]
  },
  {
   "cell_type": "code",
   "execution_count": 42,
   "metadata": {},
   "outputs": [
    {
     "name": "stdout",
     "output_type": "stream",
     "text": [
      "Listing all result files...\n",
      "experimenttwo_5.pkl\n",
      "experimenttwo_4.pkl\n",
      "experimenttwo_6.pkl\n",
      "experimenttwo_7.pkl\n",
      "experimenttwo_3.pkl\n",
      "experimenttwo_2.pkl\n",
      "experimenttwo_1.pkl\n",
      "experimenttwo_10.pkl\n",
      "experimenttwo_9.pkl\n",
      "experimenttwo_8.pkl\n",
      "---------------------------------------------------------\n",
      "Combining files now....\n",
      "Loading Data...\n",
      "Averaging...\n",
      "Merge complete!\n"
     ]
    }
   ],
   "source": [
    "interpoint_results = create_average_data(RESULTS_DIR, N_RESULT_FILES)"
   ]
  },
  {
   "cell_type": "code",
   "execution_count": 43,
   "metadata": {},
   "outputs": [
    {
     "data": {
      "text/html": [
       "<div>\n",
       "<style scoped>\n",
       "    .dataframe tbody tr th:only-of-type {\n",
       "        vertical-align: middle;\n",
       "    }\n",
       "\n",
       "    .dataframe tbody tr th {\n",
       "        vertical-align: top;\n",
       "    }\n",
       "\n",
       "    .dataframe thead tr th {\n",
       "        text-align: left;\n",
       "    }\n",
       "</style>\n",
       "<table border=\"1\" class=\"dataframe\">\n",
       "  <thead>\n",
       "    <tr>\n",
       "      <th></th>\n",
       "      <th colspan=\"6\" halign=\"left\">random</th>\n",
       "      <th colspan=\"6\" halign=\"left\">stratified</th>\n",
       "    </tr>\n",
       "    <tr>\n",
       "      <th></th>\n",
       "      <th colspan=\"2\" halign=\"left\">mnist</th>\n",
       "      <th colspan=\"2\" halign=\"left\">fmnist</th>\n",
       "      <th colspan=\"2\" halign=\"left\">olivetti</th>\n",
       "      <th colspan=\"2\" halign=\"left\">mnist</th>\n",
       "      <th colspan=\"2\" halign=\"left\">fmnist</th>\n",
       "      <th colspan=\"2\" halign=\"left\">olivetti</th>\n",
       "    </tr>\n",
       "    <tr>\n",
       "      <th></th>\n",
       "      <th>umap</th>\n",
       "      <th>tsne</th>\n",
       "      <th>umap</th>\n",
       "      <th>tsne</th>\n",
       "      <th>umap</th>\n",
       "      <th>tsne</th>\n",
       "      <th>umap</th>\n",
       "      <th>tsne</th>\n",
       "      <th>umap</th>\n",
       "      <th>tsne</th>\n",
       "      <th>umap</th>\n",
       "      <th>tsne</th>\n",
       "    </tr>\n",
       "  </thead>\n",
       "  <tbody>\n",
       "    <tr>\n",
       "      <th>0</th>\n",
       "      <td>4286.266804</td>\n",
       "      <td>17313.704105</td>\n",
       "      <td>29157.305930</td>\n",
       "      <td>295749.969680</td>\n",
       "      <td>1297.647726</td>\n",
       "      <td>1590.988821</td>\n",
       "      <td>5025.214247</td>\n",
       "      <td>17413.500934</td>\n",
       "      <td>24760.439234</td>\n",
       "      <td>256319.636682</td>\n",
       "      <td>1028.197554</td>\n",
       "      <td>1878.301385</td>\n",
       "    </tr>\n",
       "    <tr>\n",
       "      <th>1</th>\n",
       "      <td>6969.666251</td>\n",
       "      <td>10914.570623</td>\n",
       "      <td>29986.304794</td>\n",
       "      <td>276434.178333</td>\n",
       "      <td>943.997218</td>\n",
       "      <td>1107.201207</td>\n",
       "      <td>3849.977586</td>\n",
       "      <td>14315.500111</td>\n",
       "      <td>20893.011414</td>\n",
       "      <td>260255.958702</td>\n",
       "      <td>419.039223</td>\n",
       "      <td>1421.233265</td>\n",
       "    </tr>\n",
       "    <tr>\n",
       "      <th>2</th>\n",
       "      <td>4901.424914</td>\n",
       "      <td>10101.429936</td>\n",
       "      <td>302925.098500</td>\n",
       "      <td>177630.472147</td>\n",
       "      <td>383.362385</td>\n",
       "      <td>1691.092438</td>\n",
       "      <td>4770.213570</td>\n",
       "      <td>7017.586237</td>\n",
       "      <td>301689.363259</td>\n",
       "      <td>166131.415526</td>\n",
       "      <td>853.278211</td>\n",
       "      <td>1417.213569</td>\n",
       "    </tr>\n",
       "    <tr>\n",
       "      <th>3</th>\n",
       "      <td>2202.620551</td>\n",
       "      <td>7689.037609</td>\n",
       "      <td>16913.258996</td>\n",
       "      <td>184377.281795</td>\n",
       "      <td>872.324785</td>\n",
       "      <td>1932.515698</td>\n",
       "      <td>8142.251616</td>\n",
       "      <td>6223.452071</td>\n",
       "      <td>16134.578617</td>\n",
       "      <td>125575.362080</td>\n",
       "      <td>295.997851</td>\n",
       "      <td>1933.731717</td>\n",
       "    </tr>\n",
       "    <tr>\n",
       "      <th>4</th>\n",
       "      <td>2704.840795</td>\n",
       "      <td>6465.311703</td>\n",
       "      <td>20467.219723</td>\n",
       "      <td>106959.679890</td>\n",
       "      <td>781.326575</td>\n",
       "      <td>1363.837441</td>\n",
       "      <td>7815.016163</td>\n",
       "      <td>8772.454826</td>\n",
       "      <td>13861.879120</td>\n",
       "      <td>98356.336433</td>\n",
       "      <td>508.753106</td>\n",
       "      <td>1529.093741</td>\n",
       "    </tr>\n",
       "    <tr>\n",
       "      <th>5</th>\n",
       "      <td>1683.323694</td>\n",
       "      <td>3295.809779</td>\n",
       "      <td>11754.671718</td>\n",
       "      <td>78060.490141</td>\n",
       "      <td>1018.801775</td>\n",
       "      <td>2036.682544</td>\n",
       "      <td>4871.869817</td>\n",
       "      <td>5259.984439</td>\n",
       "      <td>11907.221310</td>\n",
       "      <td>89815.329848</td>\n",
       "      <td>687.724916</td>\n",
       "      <td>1547.613695</td>\n",
       "    </tr>\n",
       "    <tr>\n",
       "      <th>6</th>\n",
       "      <td>6111.825807</td>\n",
       "      <td>2095.816402</td>\n",
       "      <td>12674.189618</td>\n",
       "      <td>65441.996220</td>\n",
       "      <td>630.984333</td>\n",
       "      <td>1612.710191</td>\n",
       "      <td>8605.105275</td>\n",
       "      <td>1595.323476</td>\n",
       "      <td>8372.467063</td>\n",
       "      <td>71480.879455</td>\n",
       "      <td>376.766000</td>\n",
       "      <td>942.608147</td>\n",
       "    </tr>\n",
       "  </tbody>\n",
       "</table>\n",
       "</div>"
      ],
      "text/plain": [
       "        random                                                           \\\n",
       "         mnist                       fmnist                    olivetti   \n",
       "          umap          tsne           umap           tsne         umap   \n",
       "0  4286.266804  17313.704105   29157.305930  295749.969680  1297.647726   \n",
       "1  6969.666251  10914.570623   29986.304794  276434.178333   943.997218   \n",
       "2  4901.424914  10101.429936  302925.098500  177630.472147   383.362385   \n",
       "3  2202.620551   7689.037609   16913.258996  184377.281795   872.324785   \n",
       "4  2704.840795   6465.311703   20467.219723  106959.679890   781.326575   \n",
       "5  1683.323694   3295.809779   11754.671718   78060.490141  1018.801775   \n",
       "6  6111.825807   2095.816402   12674.189618   65441.996220   630.984333   \n",
       "\n",
       "                 stratified                                              \\\n",
       "                      mnist                       fmnist                  \n",
       "          tsne         umap          tsne           umap           tsne   \n",
       "0  1590.988821  5025.214247  17413.500934   24760.439234  256319.636682   \n",
       "1  1107.201207  3849.977586  14315.500111   20893.011414  260255.958702   \n",
       "2  1691.092438  4770.213570   7017.586237  301689.363259  166131.415526   \n",
       "3  1932.515698  8142.251616   6223.452071   16134.578617  125575.362080   \n",
       "4  1363.837441  7815.016163   8772.454826   13861.879120   98356.336433   \n",
       "5  2036.682544  4871.869817   5259.984439   11907.221310   89815.329848   \n",
       "6  1612.710191  8605.105275   1595.323476    8372.467063   71480.879455   \n",
       "\n",
       "                             \n",
       "      olivetti               \n",
       "          umap         tsne  \n",
       "0  1028.197554  1878.301385  \n",
       "1   419.039223  1421.233265  \n",
       "2   853.278211  1417.213569  \n",
       "3   295.997851  1933.731717  \n",
       "4   508.753106  1529.093741  \n",
       "5   687.724916  1547.613695  \n",
       "6   376.766000   942.608147  "
      ]
     },
     "execution_count": 43,
     "metadata": {},
     "output_type": "execute_result"
    }
   ],
   "source": [
    "interpoint_results"
   ]
  },
  {
   "cell_type": "code",
   "execution_count": 44,
   "metadata": {},
   "outputs": [],
   "source": [
    "interpoint_results.to_csv('exp2_interpoint_results.csv')"
   ]
  },
  {
   "cell_type": "code",
   "execution_count": 45,
   "metadata": {},
   "outputs": [
    {
     "name": "stdout",
     "output_type": "stream",
     "text": [
      "Listing all result files...\n",
      "experimenttwo_5.pkl\n",
      "experimenttwo_4.pkl\n",
      "experimenttwo_6.pkl\n",
      "experimenttwo_7.pkl\n",
      "experimenttwo_3.pkl\n",
      "experimenttwo_2.pkl\n",
      "experimenttwo_1.pkl\n",
      "experimenttwo_10.pkl\n",
      "experimenttwo_9.pkl\n",
      "experimenttwo_8.pkl\n",
      "---------------------------------------------------------\n",
      "Combining files now....\n",
      "Loading Data...\n",
      "Averaging...\n",
      "Merge complete!\n"
     ]
    }
   ],
   "source": [
    "distance_from_truth_results = create_average_data(RESULTS_DIR, N_RESULT_FILES)"
   ]
  },
  {
   "cell_type": "code",
   "execution_count": 46,
   "metadata": {},
   "outputs": [
    {
     "data": {
      "text/html": [
       "<div>\n",
       "<style scoped>\n",
       "    .dataframe tbody tr th:only-of-type {\n",
       "        vertical-align: middle;\n",
       "    }\n",
       "\n",
       "    .dataframe tbody tr th {\n",
       "        vertical-align: top;\n",
       "    }\n",
       "\n",
       "    .dataframe thead tr th {\n",
       "        text-align: left;\n",
       "    }\n",
       "</style>\n",
       "<table border=\"1\" class=\"dataframe\">\n",
       "  <thead>\n",
       "    <tr>\n",
       "      <th></th>\n",
       "      <th colspan=\"6\" halign=\"left\">random</th>\n",
       "      <th colspan=\"6\" halign=\"left\">stratified</th>\n",
       "    </tr>\n",
       "    <tr>\n",
       "      <th></th>\n",
       "      <th colspan=\"2\" halign=\"left\">mnist</th>\n",
       "      <th colspan=\"2\" halign=\"left\">fmnist</th>\n",
       "      <th colspan=\"2\" halign=\"left\">olivetti</th>\n",
       "      <th colspan=\"2\" halign=\"left\">mnist</th>\n",
       "      <th colspan=\"2\" halign=\"left\">fmnist</th>\n",
       "      <th colspan=\"2\" halign=\"left\">olivetti</th>\n",
       "    </tr>\n",
       "    <tr>\n",
       "      <th></th>\n",
       "      <th>umap</th>\n",
       "      <th>tsne</th>\n",
       "      <th>umap</th>\n",
       "      <th>tsne</th>\n",
       "      <th>umap</th>\n",
       "      <th>tsne</th>\n",
       "      <th>umap</th>\n",
       "      <th>tsne</th>\n",
       "      <th>umap</th>\n",
       "      <th>tsne</th>\n",
       "      <th>umap</th>\n",
       "      <th>tsne</th>\n",
       "    </tr>\n",
       "  </thead>\n",
       "  <tbody>\n",
       "    <tr>\n",
       "      <th>0</th>\n",
       "      <td>4286.266804</td>\n",
       "      <td>17313.704105</td>\n",
       "      <td>29157.305930</td>\n",
       "      <td>295749.969680</td>\n",
       "      <td>1297.647726</td>\n",
       "      <td>1590.988821</td>\n",
       "      <td>5025.214247</td>\n",
       "      <td>17413.500934</td>\n",
       "      <td>24760.439234</td>\n",
       "      <td>256319.636682</td>\n",
       "      <td>1028.197554</td>\n",
       "      <td>1878.301385</td>\n",
       "    </tr>\n",
       "    <tr>\n",
       "      <th>1</th>\n",
       "      <td>6969.666251</td>\n",
       "      <td>10914.570623</td>\n",
       "      <td>29986.304794</td>\n",
       "      <td>276434.178333</td>\n",
       "      <td>943.997218</td>\n",
       "      <td>1107.201207</td>\n",
       "      <td>3849.977586</td>\n",
       "      <td>14315.500111</td>\n",
       "      <td>20893.011414</td>\n",
       "      <td>260255.958702</td>\n",
       "      <td>419.039223</td>\n",
       "      <td>1421.233265</td>\n",
       "    </tr>\n",
       "    <tr>\n",
       "      <th>2</th>\n",
       "      <td>4901.424914</td>\n",
       "      <td>10101.429936</td>\n",
       "      <td>302925.098500</td>\n",
       "      <td>177630.472147</td>\n",
       "      <td>383.362385</td>\n",
       "      <td>1691.092438</td>\n",
       "      <td>4770.213570</td>\n",
       "      <td>7017.586237</td>\n",
       "      <td>301689.363259</td>\n",
       "      <td>166131.415526</td>\n",
       "      <td>853.278211</td>\n",
       "      <td>1417.213569</td>\n",
       "    </tr>\n",
       "    <tr>\n",
       "      <th>3</th>\n",
       "      <td>2202.620551</td>\n",
       "      <td>7689.037609</td>\n",
       "      <td>16913.258996</td>\n",
       "      <td>184377.281795</td>\n",
       "      <td>872.324785</td>\n",
       "      <td>1932.515698</td>\n",
       "      <td>8142.251616</td>\n",
       "      <td>6223.452071</td>\n",
       "      <td>16134.578617</td>\n",
       "      <td>125575.362080</td>\n",
       "      <td>295.997851</td>\n",
       "      <td>1933.731717</td>\n",
       "    </tr>\n",
       "    <tr>\n",
       "      <th>4</th>\n",
       "      <td>2704.840795</td>\n",
       "      <td>6465.311703</td>\n",
       "      <td>20467.219723</td>\n",
       "      <td>106959.679890</td>\n",
       "      <td>781.326575</td>\n",
       "      <td>1363.837441</td>\n",
       "      <td>7815.016163</td>\n",
       "      <td>8772.454826</td>\n",
       "      <td>13861.879120</td>\n",
       "      <td>98356.336433</td>\n",
       "      <td>508.753106</td>\n",
       "      <td>1529.093741</td>\n",
       "    </tr>\n",
       "    <tr>\n",
       "      <th>5</th>\n",
       "      <td>1683.323694</td>\n",
       "      <td>3295.809779</td>\n",
       "      <td>11754.671718</td>\n",
       "      <td>78060.490141</td>\n",
       "      <td>1018.801775</td>\n",
       "      <td>2036.682544</td>\n",
       "      <td>4871.869817</td>\n",
       "      <td>5259.984439</td>\n",
       "      <td>11907.221310</td>\n",
       "      <td>89815.329848</td>\n",
       "      <td>687.724916</td>\n",
       "      <td>1547.613695</td>\n",
       "    </tr>\n",
       "    <tr>\n",
       "      <th>6</th>\n",
       "      <td>6111.825807</td>\n",
       "      <td>2095.816402</td>\n",
       "      <td>12674.189618</td>\n",
       "      <td>65441.996220</td>\n",
       "      <td>630.984333</td>\n",
       "      <td>1612.710191</td>\n",
       "      <td>8605.105275</td>\n",
       "      <td>1595.323476</td>\n",
       "      <td>8372.467063</td>\n",
       "      <td>71480.879455</td>\n",
       "      <td>376.766000</td>\n",
       "      <td>942.608147</td>\n",
       "    </tr>\n",
       "  </tbody>\n",
       "</table>\n",
       "</div>"
      ],
      "text/plain": [
       "        random                                                           \\\n",
       "         mnist                       fmnist                    olivetti   \n",
       "          umap          tsne           umap           tsne         umap   \n",
       "0  4286.266804  17313.704105   29157.305930  295749.969680  1297.647726   \n",
       "1  6969.666251  10914.570623   29986.304794  276434.178333   943.997218   \n",
       "2  4901.424914  10101.429936  302925.098500  177630.472147   383.362385   \n",
       "3  2202.620551   7689.037609   16913.258996  184377.281795   872.324785   \n",
       "4  2704.840795   6465.311703   20467.219723  106959.679890   781.326575   \n",
       "5  1683.323694   3295.809779   11754.671718   78060.490141  1018.801775   \n",
       "6  6111.825807   2095.816402   12674.189618   65441.996220   630.984333   \n",
       "\n",
       "                 stratified                                              \\\n",
       "                      mnist                       fmnist                  \n",
       "          tsne         umap          tsne           umap           tsne   \n",
       "0  1590.988821  5025.214247  17413.500934   24760.439234  256319.636682   \n",
       "1  1107.201207  3849.977586  14315.500111   20893.011414  260255.958702   \n",
       "2  1691.092438  4770.213570   7017.586237  301689.363259  166131.415526   \n",
       "3  1932.515698  8142.251616   6223.452071   16134.578617  125575.362080   \n",
       "4  1363.837441  7815.016163   8772.454826   13861.879120   98356.336433   \n",
       "5  2036.682544  4871.869817   5259.984439   11907.221310   89815.329848   \n",
       "6  1612.710191  8605.105275   1595.323476    8372.467063   71480.879455   \n",
       "\n",
       "                             \n",
       "      olivetti               \n",
       "          umap         tsne  \n",
       "0  1028.197554  1878.301385  \n",
       "1   419.039223  1421.233265  \n",
       "2   853.278211  1417.213569  \n",
       "3   295.997851  1933.731717  \n",
       "4   508.753106  1529.093741  \n",
       "5   687.724916  1547.613695  \n",
       "6   376.766000   942.608147  "
      ]
     },
     "execution_count": 46,
     "metadata": {},
     "output_type": "execute_result"
    }
   ],
   "source": [
    "distance_from_truth_results"
   ]
  },
  {
   "cell_type": "code",
   "execution_count": 47,
   "metadata": {},
   "outputs": [],
   "source": [
    "distance_from_truth_results.to_csv('exp2_distance_from_truth_results.csv')"
   ]
  },
  {
   "cell_type": "markdown",
   "metadata": {},
   "source": [
    "### Now we look at plots!"
   ]
  },
  {
   "cell_type": "code",
   "execution_count": 48,
   "metadata": {},
   "outputs": [],
   "source": [
    "import seaborn as sns\n",
    "import pandas as pd\n",
    "import matplotlib.pyplot as plt\n"
   ]
  },
  {
   "cell_type": "code",
   "execution_count": 49,
   "metadata": {},
   "outputs": [],
   "source": [
    "SAMPLING = ['random', 'stratified']\n",
    "ALGORITHMS = ['tsne', 'umap']\n",
    "DATASETS = ['olivetti', 'fmnist', 'mnist']\n",
    "x_axis = [0.3, 0.4, 0.5, 0.6, 0.7, 0.8, 0.9]"
   ]
  },
  {
   "cell_type": "code",
   "execution_count": 51,
   "metadata": {},
   "outputs": [
    {
     "data": {
      "image/png": "[encoded data removed]",
      "text/plain": [
       "<Figure size 432x288 with 6 Axes>"
      ]
     },
     "metadata": {},
     "output_type": "display_data"
    },
    {
     "data": {
      "text/plain": [
       "<Figure size 1080x720 with 0 Axes>"
      ]
     },
     "metadata": {},
     "output_type": "display_data"
    }
   ],
   "source": [
    "# Creating Tile plots\n",
    "data = distance_from_truth_results\n",
    "df = pd.DataFrame({\n",
    "    'x': x_axis,\n",
    "    'umap (r1)': data['random']['mnist']['umap'],\n",
    "    'tsne (r1)': data['random']['mnist']['tsne'],\n",
    "    'umap (r2)': data['random']['olivetti']['umap'],\n",
    "    'tsne (r2)': data['random']['olivetti']['tsne'], \n",
    "    'umap (r3)': data['random']['fmnist']['umap'],\n",
    "    'tsne (r3)': data['random']['fmnist']['tsne'], \n",
    "    'umap (s1)': data['stratified']['mnist']['umap'],\n",
    "    'tsne (s1)': data['stratified']['mnist']['tsne'], \n",
    "    'umap (s2)': data['stratified']['olivetti']['umap'],\n",
    "    'tsne (s2)': data['stratified']['olivetti']['tsne'], \n",
    "    'umap (s3)': data['stratified']['fmnist']['umap'],\n",
    "    'tsne (s3)': data['stratified']['fmnist']['tsne'], \n",
    "    })\n",
    "\n",
    "title = [\"\", \"MNIST R \", \"Olivetti R\", \"FMNIST R\", \n",
    "         \"MNIST S\", \"Olivetti S\", \"FMNIST S\"]\n",
    "\n",
    "# Initialize the figure\n",
    "plt.style.use('seaborn-darkgrid')\n",
    " \n",
    "# create a color palette\n",
    "palette = plt.get_cmap('Set1')\n",
    " \n",
    "# multiple line plot\n",
    "num=0\n",
    "col=0\n",
    "skip = False\n",
    "for column in range(1, len(df.columns)):\n",
    "    if skip:\n",
    "        skip = False\n",
    "        continue\n",
    "    num+=1\n",
    "    # Find the right spot on the plot\n",
    "    plt.subplot(2,3, num)\n",
    "    plt.plot(df['x'], df.iloc[:,[column]], marker='', color=palette(col), linewidth=1.9, alpha=0.9, label=column)\n",
    "    plt.plot(df['x'], df.iloc[:,[column+1]], marker='', color=palette(col+1), linewidth=1.9, alpha=0.9, label=column)\n",
    "    \n",
    "    # Add title\n",
    "    plt.tick_params(labelbottom='off')\n",
    "    plt.title(title[num], loc='center', fontsize=12, fontweight=0, color=palette(num))\n",
    "    #plt.figure(figsize=(5,5))\n",
    "    skip = True\n",
    "    \n",
    "# general title\n",
    "plt.suptitle(\"Convergence in embedding space\", fontsize=13, fontweight=0, color='black', style='italic', y=1.02)\n",
    "plt.tight_layout()\n",
    "plt.figure(figsize=(15,10)) \n",
    "\n",
    "plt.savefig(IMAGES_DIR + \"Convergence in embedding space.png\")"
   ]
  },
  {
   "cell_type": "code",
   "execution_count": 52,
   "metadata": {},
   "outputs": [
    {
     "data": {
      "image/png": "[encoded data removed]",
      "text/plain": [
       "<Figure size 432x288 with 6 Axes>"
      ]
     },
     "metadata": {},
     "output_type": "display_data"
    },
    {
     "data": {
      "text/plain": [
       "<Figure size 1080x720 with 0 Axes>"
      ]
     },
     "metadata": {},
     "output_type": "display_data"
    }
   ],
   "source": [
    "# Creating Tile plots\n",
    "data = interpoint_results\n",
    "df = pd.DataFrame({\n",
    "    'x': x_axis,\n",
    "    'umap (r1)': data['random']['mnist']['umap'],\n",
    "    'tsne (r1)': data['random']['mnist']['tsne'],\n",
    "    'umap (r2)': data['random']['olivetti']['umap'],\n",
    "    'tsne (r2)': data['random']['olivetti']['tsne'], \n",
    "    'umap (r3)': data['random']['fmnist']['umap'],\n",
    "    'tsne (r3)': data['random']['fmnist']['tsne'], \n",
    "    'umap (s1)': data['stratified']['mnist']['umap'],\n",
    "    'tsne (s1)': data['stratified']['mnist']['tsne'], \n",
    "    'umap (s2)': data['stratified']['olivetti']['umap'],\n",
    "    'tsne (s2)': data['stratified']['olivetti']['tsne'], \n",
    "    'umap (s3)': data['stratified']['fmnist']['umap'],\n",
    "    'tsne (s3)': data['stratified']['fmnist']['tsne'], \n",
    "    })\n",
    "\n",
    "title = [\"\", \"MNIST R \", \"Olivetti R\", \"FMNIST R\", \n",
    "         \"MNIST S\", \"Olivetti S\", \"FMNIST S\"]\n",
    "\n",
    "# Initialize the figure\n",
    "plt.style.use('seaborn-darkgrid')\n",
    " \n",
    "# create a color palette\n",
    "palette = plt.get_cmap('Set1')\n",
    " \n",
    "# multiple line plot\n",
    "num=0\n",
    "col=0\n",
    "skip = False\n",
    "for column in range(1, len(df.columns)):\n",
    "    if skip:\n",
    "        skip = False\n",
    "        continue\n",
    "    num+=1\n",
    "    # Find the right spot on the plot\n",
    "    plt.subplot(2,3, num)\n",
    "    plt.plot(df['x'], df.iloc[:,[column]], marker='', color=palette(col), linewidth=1.9, alpha=0.9, label=column)\n",
    "    plt.plot(df['x'], df.iloc[:,[column+1]], marker='', color=palette(col+1), linewidth=1.9, alpha=0.9, label=column)\n",
    "    \n",
    "    # Add title\n",
    "    plt.tick_params(labelbottom='off')\n",
    "    plt.title(title[num], loc='center', fontsize=12, fontweight=0, color=palette(num))\n",
    "    #plt.figure(figsize=(5,5))\n",
    "    skip = True\n",
    "    \n",
    "# general title\n",
    "plt.suptitle(\"Change in embedding every 10% data increase\", fontsize=13, fontweight=0, color='black', style='italic', y=1.02)\n",
    "plt.tight_layout()\n",
    "plt.figure(figsize=(15,10))\n",
    "plt.savefig(IMAGES_DIR + \"Change in embedding every 10% data increase.png\")"
   ]
  },
  {
   "cell_type": "code",
   "execution_count": 53,
   "metadata": {},
   "outputs": [],
   "source": [
    "def create_lineplots_by_dataset(data, dataset=\"mnist\", sampling=\"random\", metric=\"marginal\"):\n",
    "    if sampling == 'both':\n",
    "        sns.lineplot(x_axis, data['random'][dataset]['umap'])\n",
    "        sns.lineplot(x_axis, data['stratified'][dataset]['umap'])\n",
    "        sns.lineplot(x_axis, data['random'][dataset]['tsne'])\n",
    "        sns.lineplot(x_axis, data['stratified'][dataset]['tsne'])\n",
    "        plt.legend(['umap(r)', 'umap(s)','tsne(r)', 'tsne(s)'])\n",
    "        plt.title(str(dataset))\n",
    "\n",
    "\n",
    "    else:\n",
    "        sns.lineplot(x_axis, data[sampling][dataset]['umap'])\n",
    "        sns.lineplot(x_axis, data[sampling][dataset]['tsne'])\n",
    "        plt.legend(['umap', 'tsne'])\n",
    "        plt.title(str(dataset) + \" interpoint distance (\" + str(sampling) + \" sampling)\")\n",
    "    \n",
    "    ylabel = \"\"\n",
    "    \n",
    "    if metric == 'marginal':\n",
    "        ylabel = 'Net change after 10% data increase'\n",
    "    elif metric == \"truth_dist\":\n",
    "        ylabel = \"Dist from final position of point\"\n",
    "    \n",
    "    plt.ylabel(ylabel)\n",
    "    plt.xlabel('Dataset fraction')\n",
    "    \n",
    "    if SAVE_IMAGES:\n",
    "        plt.savefig(IMAGES_DIR + \"create_lineplots_by_dataset_{}_{}_{}.png\".format(dataset, sampling, metric))\n",
    "        plt.cla()\n",
    "    else:\n",
    "        plt.plot()"
   ]
  },
  {
   "cell_type": "code",
   "execution_count": 54,
   "metadata": {},
   "outputs": [
    {
     "data": {
      "image/png": "[encoded data removed]",
      "text/plain": [
       "<Figure size 432x288 with 1 Axes>"
      ]
     },
     "metadata": {},
     "output_type": "display_data"
    }
   ],
   "source": [
    "create_lineplots_by_dataset(data=distance_from_truth_results, dataset='olivetti', metric='truth_dist')"
   ]
  },
  {
   "cell_type": "code",
   "execution_count": 55,
   "metadata": {},
   "outputs": [
    {
     "data": {
      "image/png": "[encoded data removed]",
      "text/plain": [
       "<Figure size 432x288 with 1 Axes>"
      ]
     },
     "metadata": {},
     "output_type": "display_data"
    }
   ],
   "source": [
    "create_lineplots_by_dataset(data=distance_from_truth_results, dataset='mnist')"
   ]
  },
  {
   "cell_type": "code",
   "execution_count": 56,
   "metadata": {},
   "outputs": [
    {
     "data": {
      "image/png": "[encoded data removed]",
      "text/plain": [
       "<Figure size 432x288 with 1 Axes>"
      ]
     },
     "metadata": {},
     "output_type": "display_data"
    }
   ],
   "source": [
    "create_lineplots_by_dataset(data=distance_from_truth_results, dataset='fmnist')"
   ]
  },
  {
   "cell_type": "code",
   "execution_count": 57,
   "metadata": {},
   "outputs": [
    {
     "data": {
      "image/png": "[encoded data removed]",
      "text/plain": [
       "<Figure size 432x288 with 1 Axes>"
      ]
     },
     "metadata": {},
     "output_type": "display_data"
    }
   ],
   "source": [
    "create_lineplots_by_dataset(data=distance_from_truth_results, dataset='olivetti', sampling='stratified')"
   ]
  },
  {
   "cell_type": "code",
   "execution_count": 58,
   "metadata": {},
   "outputs": [
    {
     "data": {
      "image/png": "[encoded data removed]",
      "text/plain": [
       "<Figure size 432x288 with 1 Axes>"
      ]
     },
     "metadata": {},
     "output_type": "display_data"
    }
   ],
   "source": [
    "create_lineplots_by_dataset(data=distance_from_truth_results, dataset='mnist', sampling='stratified')"
   ]
  },
  {
   "cell_type": "code",
   "execution_count": 59,
   "metadata": {},
   "outputs": [
    {
     "data": {
      "image/png": "[encoded data removed]",
      "text/plain": [
       "<Figure size 432x288 with 1 Axes>"
      ]
     },
     "metadata": {},
     "output_type": "display_data"
    }
   ],
   "source": [
    "create_lineplots_by_dataset(data=distance_from_truth_results, dataset='fmnist', sampling='stratified')"
   ]
  },
  {
   "cell_type": "code",
   "execution_count": null,
   "metadata": {},
   "outputs": [],
   "source": []
  }
 ],
 "metadata": {
  "kernelspec": {
   "display_name": "Python 3",
   "language": "python",
   "name": "python3"
  },
  "language_info": {
   "codemirror_mode": {
    "name": "ipython",
    "version": 3
   },
   "file_extension": ".py",
   "mimetype": "text/x-python",
   "name": "python",
   "nbconvert_exporter": "python",
   "pygments_lexer": "ipython3",
   "version": "3.8.3"
  }
 },
 "nbformat": 4,
 "nbformat_minor": 4
}
