{
 "cells": [
  {
   "cell_type": "code",
   "execution_count": 1,
   "metadata": {},
   "outputs": [],
   "source": [
    "import pickle\n",
    "from collections import defaultdict\n",
    "\n",
    "from framework.losses import interpoint_distance"
   ]
  },
  {
   "cell_type": "code",
   "execution_count": 2,
   "metadata": {},
   "outputs": [],
   "source": [
    "def _load(name):\n",
    "    with open(name, \"rb\") as f:\n",
    "        return pickle.load(f)"
   ]
  },
  {
   "cell_type": "code",
   "execution_count": 3,
   "metadata": {},
   "outputs": [],
   "source": [
    "results = _load(\"experimenttwo.pkl\")"
   ]
  },
  {
   "cell_type": "code",
   "execution_count": 4,
   "metadata": {},
   "outputs": [],
   "source": [
    "assert len(results) == 120"
   ]
  },
  {
   "cell_type": "code",
   "execution_count": 5,
   "metadata": {},
   "outputs": [],
   "source": [
    "def group(results):\n",
    "    \n",
    "    def _sort(groups):\n",
    "        \n",
    "        sorted_groups = {}\n",
    "        for key, x in groups.items():\n",
    "            sorted_groups[key] = sorted(x, key=lambda k: k['size'])\n",
    "            \n",
    "        return sorted_groups\n",
    "    \n",
    "    groups = defaultdict(list)\n",
    "    for result in results:\n",
    "        samp, dataset, algo = result['sampling'], result['dataset'], result['algorithm']\n",
    "        key = tuple([samp, dataset, algo])\n",
    "        groups[key].append({\n",
    "            \"emb_x\": result['emb_x'],\n",
    "            \"y\": result['y'],\n",
    "            \"size\": result['size']\n",
    "        })\n",
    "    return _sort(dict(groups))"
   ]
  },
  {
   "cell_type": "code",
   "execution_count": 6,
   "metadata": {},
   "outputs": [],
   "source": [
    "def groups_to_interpoint(groups):\n",
    "    \n",
    "    def _do_interpoint(arr):\n",
    "        embeddings = [x['emb_x'] for x in arr]\n",
    "        interpoints = []\n",
    "        for i in range(0, len(embeddings) - 1):\n",
    "            j = i + 1\n",
    "            interpoints.append(interpoint_distance(embeddings[i], embeddings[j]))\n",
    "        return interpoints\n",
    "        \n",
    "    interpoint_groups = {}\n",
    "    for key, value in groups.items():\n",
    "        interpoint_groups[key] = _do_interpoint(value)\n",
    "\n",
    "    return interpoint_groups"
   ]
  },
  {
   "cell_type": "code",
   "execution_count": 8,
   "metadata": {},
   "outputs": [],
   "source": [
    "interpoint_results = groups_to_interpoint(group(results))"
   ]
  },
  {
   "cell_type": "code",
   "execution_count": 9,
   "metadata": {},
   "outputs": [
    {
     "data": {
      "text/plain": [
       "{('random', 'mnist', 'umap'): [5083.291705131531,\n",
       "  4914.576036453247,\n",
       "  3303.4438693523407,\n",
       "  2253.2539452314377,\n",
       "  6785.8734956383705,\n",
       "  6481.827231884003,\n",
       "  2544.8183591365814,\n",
       "  1726.6064143199474,\n",
       "  1437.9420633390546],\n",
       " ('random', 'mnist', 'tsne'): [6261.594577617778,\n",
       "  8809.71045379114,\n",
       "  15727.571824024872,\n",
       "  10456.128242940964,\n",
       "  13695.623971621513,\n",
       "  4346.810568908448,\n",
       "  6114.2991616742,\n",
       "  3604.811768151622,\n",
       "  2148.5928544382436],\n",
       " ('random', 'fmnist', 'umap'): [49498.65532368049,\n",
       "  272089.322820127,\n",
       "  19302.23217964638,\n",
       "  18920.69434143789,\n",
       "  293641.10985150933,\n",
       "  19707.126275768504,\n",
       "  15329.575989204226,\n",
       "  21154.687600805424,\n",
       "  9046.29302257998],\n",
       " ('random', 'fmnist', 'tsne'): [277305.1110497446,\n",
       "  187423.9889318488,\n",
       "  219887.54962398365,\n",
       "  122513.89461758616,\n",
       "  130685.49806552648,\n",
       "  97065.9975633683,\n",
       "  108372.28874198651,\n",
       "  88124.22150735593,\n",
       "  72915.28367245979],\n",
       " ('random', 'olivetti', 'umap'): [1209.621063709259,\n",
       "  1231.1787400245667,\n",
       "  684.2414488196373,\n",
       "  531.007498383522,\n",
       "  579.2987482324243,\n",
       "  1104.968126296997,\n",
       "  915.216114282608,\n",
       "  426.3627244234085,\n",
       "  297.11675360798836],\n",
       " ('random', 'olivetti', 'tsne'): [830.9698128337152,\n",
       "  766.682980694583,\n",
       "  913.1099854056234,\n",
       "  696.0021717171728,\n",
       "  1174.3365355427309,\n",
       "  1792.2651278664373,\n",
       "  1776.49423635495,\n",
       "  994.4299645266243,\n",
       "  2242.130821167004],\n",
       " ('stratified', 'mnist', 'umap'): [2673.886741757393,\n",
       "  3779.0043066740036,\n",
       "  4590.548990726471,\n",
       "  2475.3187416791916,\n",
       "  2169.9843170046806,\n",
       "  3231.3713983893394,\n",
       "  4625.0054377913475,\n",
       "  5078.205409616232,\n",
       "  1442.3013035207987],\n",
       " ('stratified', 'mnist', 'tsne'): [7619.11428152233,\n",
       "  12640.050099726168,\n",
       "  9058.930385558348,\n",
       "  5179.689043434486,\n",
       "  2346.9011780024407,\n",
       "  2044.4280079462173,\n",
       "  3957.0927091843078,\n",
       "  1850.0547937415254,\n",
       "  2334.1337016531143],\n",
       " ('stratified', 'fmnist', 'umap'): [242896.21411311626,\n",
       "  24428.66624775529,\n",
       "  280202.2249259949,\n",
       "  285396.81307578087,\n",
       "  13992.762784300372,\n",
       "  12248.882162002381,\n",
       "  13911.112377775833,\n",
       "  8782.744402231881,\n",
       "  20481.40835522418],\n",
       " ('stratified', 'fmnist', 'tsne'): [173996.24722354524,\n",
       "  178430.79272028618,\n",
       "  109547.22640094651,\n",
       "  124131.97955302833,\n",
       "  136829.24815405224,\n",
       "  85663.20751906671,\n",
       "  70813.75387079503,\n",
       "  79230.61382373479,\n",
       "  58802.53714657114],\n",
       " ('stratified', 'olivetti', 'umap'): [653.2231665849686,\n",
       "  1146.2857360839844,\n",
       "  641.8143973350525,\n",
       "  529.6817911863327,\n",
       "  584.7907265424728,\n",
       "  450.9586066007614,\n",
       "  1044.7949838638306,\n",
       "  895.4731826782227,\n",
       "  802.1075999736786],\n",
       " ('stratified', 'olivetti', 'tsne'): [636.37225424429,\n",
       "  863.8435012035347,\n",
       "  644.046187860753,\n",
       "  1206.2795998642819,\n",
       "  1499.0571639286375,\n",
       "  1594.7243325666082,\n",
       "  969.8488056493169,\n",
       "  1036.2806038728281,\n",
       "  1950.6140731342666]}"
      ]
     },
     "execution_count": 9,
     "metadata": {},
     "output_type": "execute_result"
    }
   ],
   "source": [
    "interpoint_results"
   ]
  },
  {
   "cell_type": "code",
   "execution_count": null,
   "metadata": {},
   "outputs": [],
   "source": []
  }
 ],
 "metadata": {
  "kernelspec": {
   "display_name": "Python 3",
   "language": "python",
   "name": "python3"
  },
  "language_info": {
   "codemirror_mode": {
    "name": "ipython",
    "version": 3
   },
   "file_extension": ".py",
   "mimetype": "text/x-python",
   "name": "python",
   "nbconvert_exporter": "python",
   "pygments_lexer": "ipython3",
   "version": "3.8.3"
  }
 },
 "nbformat": 4,
 "nbformat_minor": 4
}
